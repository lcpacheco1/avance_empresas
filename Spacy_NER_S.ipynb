{
 "cells": [
  {
   "cell_type": "code",
   "execution_count": 1,
   "id": "5e50db6f",
   "metadata": {
    "ExecuteTime": {
     "end_time": "2022-09-28T13:09:53.932523Z",
     "start_time": "2022-09-28T13:09:40.994616Z"
    }
   },
   "outputs": [
    {
     "name": "stderr",
     "output_type": "stream",
     "text": [
      "C:\\Users\\Toshiba\\Documents\\utpl_empresas\\envoracle\\lib\\site-packages\\fuzzywuzzy\\fuzz.py:11: UserWarning: Using slow pure-python SequenceMatcher. Install python-Levenshtein to remove this warning\n",
      "  warnings.warn('Using slow pure-python SequenceMatcher. Install python-Levenshtein to remove this warning')\n"
     ]
    }
   ],
   "source": [
    "#Tratamiento de datos\n",
    "# ==============================================================================\n",
    "import string #encontrar texto no ASCII\n",
    "import re #Biblioteca para expresiones regulares\n",
    "import pandas as pd\n",
    "import numpy as np\n",
    "# import unicodedata \n",
    "from unicodedata import normalize\n",
    "\n",
    "#\n",
    "from fuzzywuzzy import fuzz\n",
    "from fuzzywuzzy import process\n"
   ]
  },
  {
   "cell_type": "code",
   "execution_count": 80,
   "id": "1a45610e",
   "metadata": {
    "ExecuteTime": {
     "end_time": "2022-09-28T14:43:38.874036Z",
     "start_time": "2022-09-28T14:43:38.315593Z"
    }
   },
   "outputs": [
    {
     "name": "stderr",
     "output_type": "stream",
     "text": [
      "C:\\Users\\Toshiba\\Documents\\utpl_empresas\\envoracle\\lib\\site-packages\\pandas\\io\\sql.py:762: UserWarning: pandas only support SQLAlchemy connectable(engine/connection) ordatabase string URI or sqlite3 DBAPI2 connectionother DBAPI2 objects are not tested, please consider using SQLAlchemy\n",
      "  warnings.warn(\n"
     ]
    },
    {
     "name": "stdout",
     "output_type": "stream",
     "text": [
      "Successful Connection\n"
     ]
    },
    {
     "name": "stderr",
     "output_type": "stream",
     "text": [
      "C:\\Users\\Toshiba\\Documents\\utpl_empresas\\envoracle\\lib\\site-packages\\pandas\\io\\sql.py:762: UserWarning: pandas only support SQLAlchemy connectable(engine/connection) ordatabase string URI or sqlite3 DBAPI2 connectionother DBAPI2 objects are not tested, please consider using SQLAlchemy\n",
      "  warnings.warn(\n"
     ]
    }
   ],
   "source": [
    "# importing module \n",
    "import cx_Oracle \n",
    "\n",
    "\n",
    "# Create a table in Oracle database \n",
    "try: \n",
    "    sql_conn = cx_Oracle.connect('system/L2022utpl*@localhost:1521/orcl') \n",
    "\n",
    "    # Now execute the sqlquery \n",
    "    cursor = sql_conn.cursor() \n",
    "    query_sql1 = '''select * from PRUEBA'''\n",
    "    query_sql2 = '''select * from NER_PRUEBA'''\n",
    "    df1 = pd.read_sql(query_sql1, sql_conn)\n",
    "    df2 = pd.read_sql(query_sql2, sql_conn)\n",
    "    \n",
    "    print(\"Successful Connection\") \n",
    "    \n",
    "\n",
    "except cx_Oracle.DatabaseError as e: \n",
    "    print(\"There is a problem with Oracle\", e) \n",
    "\n",
    "# by writing finally if any error occurs \n",
    "# then also we can close the all database operation "
   ]
  },
  {
   "cell_type": "code",
   "execution_count": 95,
   "id": "5d03d553",
   "metadata": {
    "ExecuteTime": {
     "end_time": "2022-09-28T16:00:12.607321Z",
     "start_time": "2022-09-28T16:00:12.599324Z"
    }
   },
   "outputs": [],
   "source": [
    "def clearempresas (columna):\n",
    "    #Eliminar caracteres especiales\n",
    "#     (re.sub(r\"W+|_\", \" \", string))\n",
    "    columna = re.sub(\"\\?|\\'|\\!|\\\"|\\_|\\#|\\<br>|\\@|\\.|\\<Br>|\\(|\\)|\\-|\\,|\\/|\\´|\\:|\\¨\",\" \",str(columna))\n",
    "    #Eliminar tildes\n",
    "    columna = re.sub(\n",
    "        r\"([^n\\u0300-\\u036f]|n(?!\\u0303(?![\\u0300-\\u036f])))[\\u0300-\\u036f]+\", r\"\\1\",normalize( \"NFD\", columna), 0, re.I)\n",
    "    # -> NFC\n",
    "    columna = normalize( 'NFC', columna)\n",
    "    columna = re.sub(' +', ' ', columna.strip())\n",
    "    columna = columna.title()\n",
    "    \n",
    "    #Eliminar espacios duplicados\n",
    "    #columna.replace(\" \", \"\")|\\¨\n",
    "    #columna = re.sub(\"\\?|\\'|\\!|\\“|\\”|\\\"|\\_|\\#|\\<br>|\\@|\\.|\\\"|\\<Br>|\\(|\\)|\\-|\\,|\\/|\\´|\\¨|\\:|\\”\",\" \",str(columna)\n",
    "\n",
    "    return  columna\n"
   ]
  },
  {
   "cell_type": "code",
   "execution_count": 96,
   "id": "47b02e2b",
   "metadata": {
    "ExecuteTime": {
     "end_time": "2022-09-28T16:00:14.567188Z",
     "start_time": "2022-09-28T16:00:14.553198Z"
    }
   },
   "outputs": [],
   "source": [
    "\n",
    "def replace_names(cadena):\n",
    "    #Encuetre al inicio de cadena las palabras GAD|municipio|\n",
    "    replace = re.compile(r'\\b(GAD|municipio)\\b')\n",
    "    new_list = replace.sub(\"GOBIERNO AUTONOMO DESCENTRALIZADO\", str(cadena))\n",
    "    return new_list\n",
    "\n"
   ]
  },
  {
   "cell_type": "code",
   "execution_count": 97,
   "id": "da0b60e9",
   "metadata": {
    "ExecuteTime": {
     "end_time": "2022-09-28T16:00:17.338936Z",
     "start_time": "2022-09-28T16:00:17.332937Z"
    }
   },
   "outputs": [],
   "source": [
    "df2['NER'] = df2['NER'].apply(clearempresas)\n",
    "# df1['EMPRESA'] = df1['EMPRESA'].apply(replace_names)"
   ]
  },
  {
   "cell_type": "code",
   "execution_count": 104,
   "id": "8044994f",
   "metadata": {
    "ExecuteTime": {
     "end_time": "2022-09-28T16:02:58.215168Z",
     "start_time": "2022-09-28T16:02:58.198179Z"
    }
   },
   "outputs": [
    {
     "data": {
      "text/html": [
       "<div>\n",
       "<style scoped>\n",
       "    .dataframe tbody tr th:only-of-type {\n",
       "        vertical-align: middle;\n",
       "    }\n",
       "\n",
       "    .dataframe tbody tr th {\n",
       "        vertical-align: top;\n",
       "    }\n",
       "\n",
       "    .dataframe thead th {\n",
       "        text-align: right;\n",
       "    }\n",
       "</style>\n",
       "<table border=\"1\" class=\"dataframe\">\n",
       "  <thead>\n",
       "    <tr style=\"text-align: right;\">\n",
       "      <th></th>\n",
       "      <th>NER</th>\n",
       "      <th>ID</th>\n",
       "    </tr>\n",
       "  </thead>\n",
       "  <tbody>\n",
       "    <tr>\n",
       "      <th>0</th>\n",
       "      <td>Ediloja Cia Ltda</td>\n",
       "      <td>0</td>\n",
       "    </tr>\n",
       "    <tr>\n",
       "      <th>1</th>\n",
       "      <td>Lojasoft Solutions</td>\n",
       "      <td>1</td>\n",
       "    </tr>\n",
       "    <tr>\n",
       "      <th>2</th>\n",
       "      <td>Cooperativa De Ahorro Y Credito Jardin Azuayo ...</td>\n",
       "      <td>2</td>\n",
       "    </tr>\n",
       "    <tr>\n",
       "      <th>3</th>\n",
       "      <td>Universidad Tecnica Particular De Loja</td>\n",
       "      <td>3</td>\n",
       "    </tr>\n",
       "    <tr>\n",
       "      <th>4</th>\n",
       "      <td>Universidad Tecnica Particular De Loja</td>\n",
       "      <td>4</td>\n",
       "    </tr>\n",
       "    <tr>\n",
       "      <th>5</th>\n",
       "      <td>Mepalecuador S A</td>\n",
       "      <td>5</td>\n",
       "    </tr>\n",
       "    <tr>\n",
       "      <th>6</th>\n",
       "      <td>Lizbeth Carolina Pacheco Guevara</td>\n",
       "      <td>6</td>\n",
       "    </tr>\n",
       "    <tr>\n",
       "      <th>7</th>\n",
       "      <td>Universidad Tecnica Particular De Loja</td>\n",
       "      <td>7</td>\n",
       "    </tr>\n",
       "    <tr>\n",
       "      <th>8</th>\n",
       "      <td>Academy Support Center Universidad San Francis...</td>\n",
       "      <td>8</td>\n",
       "    </tr>\n",
       "  </tbody>\n",
       "</table>\n",
       "</div>"
      ],
      "text/plain": [
       "                                                 NER  ID\n",
       "0                                   Ediloja Cia Ltda   0\n",
       "1                                 Lojasoft Solutions   1\n",
       "2  Cooperativa De Ahorro Y Credito Jardin Azuayo ...   2\n",
       "3             Universidad Tecnica Particular De Loja   3\n",
       "4             Universidad Tecnica Particular De Loja   4\n",
       "5                                   Mepalecuador S A   5\n",
       "6                   Lizbeth Carolina Pacheco Guevara   6\n",
       "7             Universidad Tecnica Particular De Loja   7\n",
       "8  Academy Support Center Universidad San Francis...   8"
      ]
     },
     "execution_count": 104,
     "metadata": {},
     "output_type": "execute_result"
    }
   ],
   "source": [
    "df2"
   ]
  },
  {
   "cell_type": "code",
   "execution_count": 99,
   "id": "3a0954b2",
   "metadata": {
    "ExecuteTime": {
     "end_time": "2022-09-28T16:00:24.036853Z",
     "start_time": "2022-09-28T16:00:22.969298Z"
    }
   },
   "outputs": [],
   "source": [
    "import es_core_news_sm\n",
    "import spacy\n",
    "#loads the model as snlp\n",
    "nlp = spacy.load(\"es_core_news_sm\")\n"
   ]
  },
  {
   "cell_type": "code",
   "execution_count": 100,
   "id": "a7b1f2ca",
   "metadata": {
    "ExecuteTime": {
     "end_time": "2022-09-28T16:00:25.060631Z",
     "start_time": "2022-09-28T16:00:25.027813Z"
    }
   },
   "outputs": [],
   "source": [
    "empresas_ner = df2['NER'].to_string()\n",
    "d = nlp(empresas_ner)\n",
    "# document = nlp(empresas_ner)\n",
    "# len(document)\n",
    "# print(empresas_ner)\n",
    "# empresas_ner.ents\n",
    "# for named_entity in document.ents:\n",
    "#     ent = named_entity.label_\n",
    "#     print(named_entity,ent)"
   ]
  },
  {
   "cell_type": "code",
   "execution_count": 101,
   "id": "b16bf1cb",
   "metadata": {
    "ExecuteTime": {
     "end_time": "2022-09-28T16:00:27.105495Z",
     "start_time": "2022-09-28T16:00:27.090502Z"
    }
   },
   "outputs": [
    {
     "data": {
      "text/plain": [
       "'0                                     Ediloja Cia Ltda\\n1                                   Lojasoft Solutions\\n2    Cooperativa De Ahorro Y Credito Jardin Azuayo ...\\n3               Universidad Tecnica Particular De Loja\\n4               Universidad Tecnica Particular De Loja\\n5                                     Mepalecuador S A\\n6                     Lizbeth Carolina Pacheco Guevara\\n7               Universidad Tecnica Particular De Loja\\n8    Academy Support Center Universidad San Francis...'"
      ]
     },
     "execution_count": 101,
     "metadata": {},
     "output_type": "execute_result"
    }
   ],
   "source": [
    "empresas_ner"
   ]
  },
  {
   "cell_type": "code",
   "execution_count": 102,
   "id": "fc699da3",
   "metadata": {
    "ExecuteTime": {
     "end_time": "2022-09-28T16:00:29.170336Z",
     "start_time": "2022-09-28T16:00:29.158343Z"
    }
   },
   "outputs": [
    {
     "name": "stdout",
     "output_type": "stream",
     "text": [
      "[(Cia, 'ORG'), (Cooperativa, 'MISC'), (De, 'MISC'), (Ahorro, 'MISC'), (Credito, 'PER'), (Jardin, 'PER'), (Azuayo, 'PER'), (Universidad, 'ORG'), (Tecnica, 'ORG'), (Particular, 'ORG'), (De, 'ORG'), (Universidad, 'ORG'), (Tecnica, 'ORG'), (Particular, 'ORG'), (De, 'ORG'), (Carolina, 'PER'), (Pacheco, 'PER'), (Universidad, 'ORG'), (Tecnica, 'ORG'), (Particular, 'ORG'), (De, 'ORG'), (Academy, 'LOC'), (Support, 'LOC'), (Center, 'LOC'), (San, 'LOC'), (Francis, 'LOC'), (..., 'LOC')]\n"
     ]
    },
    {
     "data": {
      "text/html": [
       "<span class=\"tex2jax_ignore\"><div class=\"entities\" style=\"line-height: 2.5; direction: ltr\">0                                     Ediloja \n",
       "<mark class=\"entity\" style=\"background: #7aecec; padding: 0.45em 0.6em; margin: 0 0.25em; line-height: 1; border-radius: 0.35em;\">\n",
       "    Cia\n",
       "    <span style=\"font-size: 0.8em; font-weight: bold; line-height: 1; border-radius: 0.35em; vertical-align: middle; margin-left: 0.5rem\">ORG</span>\n",
       "</mark>\n",
       " Ltda</br>1                                   Lojasoft Solutions</br>2    \n",
       "<mark class=\"entity\" style=\"background: #ddd; padding: 0.45em 0.6em; margin: 0 0.25em; line-height: 1; border-radius: 0.35em;\">\n",
       "    Cooperativa De Ahorro\n",
       "    <span style=\"font-size: 0.8em; font-weight: bold; line-height: 1; border-radius: 0.35em; vertical-align: middle; margin-left: 0.5rem\">MISC</span>\n",
       "</mark>\n",
       " Y \n",
       "<mark class=\"entity\" style=\"background: #ddd; padding: 0.45em 0.6em; margin: 0 0.25em; line-height: 1; border-radius: 0.35em;\">\n",
       "    Credito Jardin Azuayo\n",
       "    <span style=\"font-size: 0.8em; font-weight: bold; line-height: 1; border-radius: 0.35em; vertical-align: middle; margin-left: 0.5rem\">PER</span>\n",
       "</mark>\n",
       " ...</br>3               \n",
       "<mark class=\"entity\" style=\"background: #7aecec; padding: 0.45em 0.6em; margin: 0 0.25em; line-height: 1; border-radius: 0.35em;\">\n",
       "    Universidad Tecnica Particular De\n",
       "    <span style=\"font-size: 0.8em; font-weight: bold; line-height: 1; border-radius: 0.35em; vertical-align: middle; margin-left: 0.5rem\">ORG</span>\n",
       "</mark>\n",
       " Loja</br>4               \n",
       "<mark class=\"entity\" style=\"background: #7aecec; padding: 0.45em 0.6em; margin: 0 0.25em; line-height: 1; border-radius: 0.35em;\">\n",
       "    Universidad Tecnica Particular De\n",
       "    <span style=\"font-size: 0.8em; font-weight: bold; line-height: 1; border-radius: 0.35em; vertical-align: middle; margin-left: 0.5rem\">ORG</span>\n",
       "</mark>\n",
       " Loja</br>5                                     Mepalecuador S A</br>6                     Lizbeth \n",
       "<mark class=\"entity\" style=\"background: #ddd; padding: 0.45em 0.6em; margin: 0 0.25em; line-height: 1; border-radius: 0.35em;\">\n",
       "    Carolina Pacheco\n",
       "    <span style=\"font-size: 0.8em; font-weight: bold; line-height: 1; border-radius: 0.35em; vertical-align: middle; margin-left: 0.5rem\">PER</span>\n",
       "</mark>\n",
       " Guevara</br>7               \n",
       "<mark class=\"entity\" style=\"background: #7aecec; padding: 0.45em 0.6em; margin: 0 0.25em; line-height: 1; border-radius: 0.35em;\">\n",
       "    Universidad Tecnica Particular De\n",
       "    <span style=\"font-size: 0.8em; font-weight: bold; line-height: 1; border-radius: 0.35em; vertical-align: middle; margin-left: 0.5rem\">ORG</span>\n",
       "</mark>\n",
       " Loja</br>8    \n",
       "<mark class=\"entity\" style=\"background: #ff9561; padding: 0.45em 0.6em; margin: 0 0.25em; line-height: 1; border-radius: 0.35em;\">\n",
       "    Academy\n",
       "    <span style=\"font-size: 0.8em; font-weight: bold; line-height: 1; border-radius: 0.35em; vertical-align: middle; margin-left: 0.5rem\">LOC</span>\n",
       "</mark>\n",
       " \n",
       "<mark class=\"entity\" style=\"background: #ff9561; padding: 0.45em 0.6em; margin: 0 0.25em; line-height: 1; border-radius: 0.35em;\">\n",
       "    Support Center\n",
       "    <span style=\"font-size: 0.8em; font-weight: bold; line-height: 1; border-radius: 0.35em; vertical-align: middle; margin-left: 0.5rem\">LOC</span>\n",
       "</mark>\n",
       " Universidad \n",
       "<mark class=\"entity\" style=\"background: #ff9561; padding: 0.45em 0.6em; margin: 0 0.25em; line-height: 1; border-radius: 0.35em;\">\n",
       "    San Francis...\n",
       "    <span style=\"font-size: 0.8em; font-weight: bold; line-height: 1; border-radius: 0.35em; vertical-align: middle; margin-left: 0.5rem\">LOC</span>\n",
       "</mark>\n",
       "</div></span>"
      ],
      "text/plain": [
       "<IPython.core.display.HTML object>"
      ]
     },
     "metadata": {},
     "output_type": "display_data"
    }
   ],
   "source": [
    "from spacy import displacy\n",
    "# print named entities in article\n",
    "print([(word, word.ent_type_) for word in d if word.ent_type_])\n",
    "\n",
    "# visualize named entities\n",
    "displacy.render(d, style='ent', jupyter=True)"
   ]
  },
  {
   "cell_type": "code",
   "execution_count": 93,
   "id": "5df8dada",
   "metadata": {
    "ExecuteTime": {
     "end_time": "2022-09-28T14:55:56.914766Z",
     "start_time": "2022-09-28T14:55:56.898777Z"
    }
   },
   "outputs": [],
   "source": [
    "named_entities = []\n",
    "for sentence in d:\n",
    "    temp_entity_name = ''\n",
    "    temp_named_entity = None\n",
    "#     sentence = nlp(sentence)\n",
    "    for word in d:\n",
    "        term = word.text \n",
    "        tag = word.ent_type_\n",
    "        if tag:\n",
    "            temp_entity_name = ' '.join([temp_entity_name, term]).strip()\n",
    "            temp_named_entity = (temp_entity_name, tag)\n",
    "        else:\n",
    "            if temp_named_entity:\n",
    "                named_entities.append(temp_named_entity)\n",
    "                temp_entity_name = ''\n",
    "                temp_named_entity = None\n",
    "\n",
    "entity_frame = pd.DataFrame(named_entities, \n",
    "                            columns=['Entity Name', 'Entity Type'])\n"
   ]
  },
  {
   "cell_type": "code",
   "execution_count": 94,
   "id": "3fc65b1d",
   "metadata": {
    "ExecuteTime": {
     "end_time": "2022-09-28T14:55:58.752085Z",
     "start_time": "2022-09-28T14:55:58.724518Z"
    }
   },
   "outputs": [
    {
     "data": {
      "text/html": [
       "<div>\n",
       "<style scoped>\n",
       "    .dataframe tbody tr th:only-of-type {\n",
       "        vertical-align: middle;\n",
       "    }\n",
       "\n",
       "    .dataframe tbody tr th {\n",
       "        vertical-align: top;\n",
       "    }\n",
       "\n",
       "    .dataframe thead th {\n",
       "        text-align: right;\n",
       "    }\n",
       "</style>\n",
       "<table border=\"1\" class=\"dataframe\">\n",
       "  <thead>\n",
       "    <tr style=\"text-align: right;\">\n",
       "      <th></th>\n",
       "      <th>Entity Name</th>\n",
       "      <th>Entity Type</th>\n",
       "    </tr>\n",
       "  </thead>\n",
       "  <tbody>\n",
       "    <tr>\n",
       "      <th>0</th>\n",
       "      <td>cia</td>\n",
       "      <td>ORG</td>\n",
       "    </tr>\n",
       "    <tr>\n",
       "      <th>1</th>\n",
       "      <td>CREDITO JARDIN AZUAYO</td>\n",
       "      <td>MISC</td>\n",
       "    </tr>\n",
       "    <tr>\n",
       "      <th>2</th>\n",
       "      <td>UNIVERSIDAD TECNICA PARTICULAR</td>\n",
       "      <td>ORG</td>\n",
       "    </tr>\n",
       "    <tr>\n",
       "      <th>3</th>\n",
       "      <td>UNIVERSIDAD TECNICA PARTICULAR</td>\n",
       "      <td>ORG</td>\n",
       "    </tr>\n",
       "    <tr>\n",
       "      <th>4</th>\n",
       "      <td>CAROLINA</td>\n",
       "      <td>ORG</td>\n",
       "    </tr>\n",
       "    <tr>\n",
       "      <th>...</th>\n",
       "      <td>...</td>\n",
       "      <td>...</td>\n",
       "    </tr>\n",
       "    <tr>\n",
       "      <th>464</th>\n",
       "      <td>UNIVERSIDAD TECNICA PARTICULAR</td>\n",
       "      <td>ORG</td>\n",
       "    </tr>\n",
       "    <tr>\n",
       "      <th>465</th>\n",
       "      <td>UNIVERSIDAD TECNICA PARTICULAR</td>\n",
       "      <td>ORG</td>\n",
       "    </tr>\n",
       "    <tr>\n",
       "      <th>466</th>\n",
       "      <td>CAROLINA</td>\n",
       "      <td>ORG</td>\n",
       "    </tr>\n",
       "    <tr>\n",
       "      <th>467</th>\n",
       "      <td>UNIVERSIDAD TECNICA PARTICULAR</td>\n",
       "      <td>ORG</td>\n",
       "    </tr>\n",
       "    <tr>\n",
       "      <th>468</th>\n",
       "      <td>ACADEMY SUPPORT</td>\n",
       "      <td>MISC</td>\n",
       "    </tr>\n",
       "  </tbody>\n",
       "</table>\n",
       "<p>469 rows × 2 columns</p>\n",
       "</div>"
      ],
      "text/plain": [
       "                        Entity Name Entity Type\n",
       "0                               cia         ORG\n",
       "1             CREDITO JARDIN AZUAYO        MISC\n",
       "2    UNIVERSIDAD TECNICA PARTICULAR         ORG\n",
       "3    UNIVERSIDAD TECNICA PARTICULAR         ORG\n",
       "4                          CAROLINA         ORG\n",
       "..                              ...         ...\n",
       "464  UNIVERSIDAD TECNICA PARTICULAR         ORG\n",
       "465  UNIVERSIDAD TECNICA PARTICULAR         ORG\n",
       "466                        CAROLINA         ORG\n",
       "467  UNIVERSIDAD TECNICA PARTICULAR         ORG\n",
       "468                 ACADEMY SUPPORT        MISC\n",
       "\n",
       "[469 rows x 2 columns]"
      ]
     },
     "execution_count": 94,
     "metadata": {},
     "output_type": "execute_result"
    }
   ],
   "source": [
    "entity_frame"
   ]
  },
  {
   "cell_type": "code",
   "execution_count": 70,
   "id": "92aec0b0",
   "metadata": {
    "ExecuteTime": {
     "end_time": "2022-09-28T14:36:55.665344Z",
     "start_time": "2022-09-28T14:36:55.419935Z"
    }
   },
   "outputs": [],
   "source": [
    "entity_frame.to_csv('ner.csv')"
   ]
  },
  {
   "cell_type": "code",
   "execution_count": 87,
   "id": "4ea614f3",
   "metadata": {
    "ExecuteTime": {
     "end_time": "2022-09-28T14:54:40.529904Z",
     "start_time": "2022-09-28T14:54:40.506902Z"
    }
   },
   "outputs": [
    {
     "data": {
      "text/html": [
       "<div>\n",
       "<style scoped>\n",
       "    .dataframe tbody tr th:only-of-type {\n",
       "        vertical-align: middle;\n",
       "    }\n",
       "\n",
       "    .dataframe tbody tr th {\n",
       "        vertical-align: top;\n",
       "    }\n",
       "\n",
       "    .dataframe thead th {\n",
       "        text-align: right;\n",
       "    }\n",
       "</style>\n",
       "<table border=\"1\" class=\"dataframe\">\n",
       "  <thead>\n",
       "    <tr style=\"text-align: right;\">\n",
       "      <th></th>\n",
       "      <th>0</th>\n",
       "      <th>1</th>\n",
       "      <th>2</th>\n",
       "      <th>3</th>\n",
       "      <th>4</th>\n",
       "    </tr>\n",
       "  </thead>\n",
       "  <tbody>\n",
       "    <tr>\n",
       "      <th>Entity Name</th>\n",
       "      <td>UNIVERSIDAD TECNICA PARTICULAR</td>\n",
       "      <td>ACADEMY SUPPORT</td>\n",
       "      <td>CAROLINA</td>\n",
       "      <td>CREDITO JARDIN AZUAYO</td>\n",
       "      <td>cia</td>\n",
       "    </tr>\n",
       "    <tr>\n",
       "      <th>Entity Type</th>\n",
       "      <td>ORG</td>\n",
       "      <td>MISC</td>\n",
       "      <td>ORG</td>\n",
       "      <td>MISC</td>\n",
       "      <td>ORG</td>\n",
       "    </tr>\n",
       "    <tr>\n",
       "      <th>Frequency</th>\n",
       "      <td>201</td>\n",
       "      <td>67</td>\n",
       "      <td>67</td>\n",
       "      <td>67</td>\n",
       "      <td>67</td>\n",
       "    </tr>\n",
       "  </tbody>\n",
       "</table>\n",
       "</div>"
      ],
      "text/plain": [
       "                                          0                1         2  \\\n",
       "Entity Name  UNIVERSIDAD TECNICA PARTICULAR  ACADEMY SUPPORT  CAROLINA   \n",
       "Entity Type                             ORG             MISC       ORG   \n",
       "Frequency                               201               67        67   \n",
       "\n",
       "                                 3    4  \n",
       "Entity Name  CREDITO JARDIN AZUAYO  cia  \n",
       "Entity Type                   MISC  ORG  \n",
       "Frequency                       67   67  "
      ]
     },
     "execution_count": 87,
     "metadata": {},
     "output_type": "execute_result"
    }
   ],
   "source": [
    "# get the top named entities\n",
    "top_entities = (entity_frame.groupby(by=['Entity Name', 'Entity Type'])\n",
    "                           .size()\n",
    "                           .sort_values(ascending=False)\n",
    "                           .reset_index().rename(columns={0 : 'Frequency'}))\n",
    "top_entities.T.iloc[:,:10]"
   ]
  }
 ],
 "metadata": {
  "kernelspec": {
   "display_name": "Python 3 (ipykernel)",
   "language": "python",
   "name": "python3"
  },
  "language_info": {
   "codemirror_mode": {
    "name": "ipython",
    "version": 3
   },
   "file_extension": ".py",
   "mimetype": "text/x-python",
   "name": "python",
   "nbconvert_exporter": "python",
   "pygments_lexer": "ipython3",
   "version": "3.10.4"
  },
  "toc": {
   "base_numbering": 1,
   "nav_menu": {},
   "number_sections": true,
   "sideBar": true,
   "skip_h1_title": false,
   "title_cell": "Table of Contents",
   "title_sidebar": "Contents",
   "toc_cell": false,
   "toc_position": {},
   "toc_section_display": true,
   "toc_window_display": false
  }
 },
 "nbformat": 4,
 "nbformat_minor": 5
}
